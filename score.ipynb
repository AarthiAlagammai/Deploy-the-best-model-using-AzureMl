{
 "cells": [
  {
   "cell_type": "code",
   "execution_count": null,
   "metadata": {
    "lines_to_next_cell": 0
   },
   "outputs": [],
   "source": []
  },
  {
   "cell_type": "code",
   "execution_count": null,
   "metadata": {
    "lines_to_next_cell": 1
   },
   "outputs": [],
   "source": [
    "import json\n",
    "import numpy as np\n",
    "import os\n",
    "import os\n",
    "import pickle\n",
    "import pandas as pd\n",
    "from azureml.core import Model\n",
    "from sklearn.externals import joblib\n",
    "#from sklearn.externals import joblib\n",
    "#from azureml.core.model import Model\n",
    "test_data_sample=pd.DataFrame(data=[{\"Age\":48, \"BMI\":23.5,\"Glucose\":70,\"Insulin\":2.707,\"HOMA\":0.467408667,\"Lepti\":8.8071,\"Adiponectin\":9.7024,\"Resistin\":7.99585,\"MCP.1\":417.114}])\n",
    "def init():\n",
    "    global model_p\n",
    "    print(\"am in init\")\n",
    "    model_path = os.path.join(os.getenv('AZUREML_MODEL_DIR'), 'fitted_model.pkl')\n",
    "    #model_path = Model.get_model_path('model_automl')\n",
    "    print(model_path)\n",
    "    model_p = joblib.load(model_path)"
   ]
  },
  {
   "cell_type": "code",
   "execution_count": null,
   "metadata": {},
   "outputs": [],
   "source": [
    "def run(data):\n",
    "    try:\n",
    "        print(\"am here\")\n",
    "        inp=json.loads(data)\n",
    "        print(inp)\n",
    "        result = model_p.predict(pd.DataFrame(inp['data']))\n",
    "        # You can return any data type, as long as it is JSON serializable.\n",
    "        return result.tolist()\n",
    "    except Exception as e:\n",
    "        error = str(e)\n",
    "        return error"
   ]
  }
 ],
 "metadata": {
  "jupytext": {
   "cell_metadata_filter": "-all",
   "notebook_metadata_filter": "-all",
   "text_representation": {
    "extension": ".py",
    "format_name": "light"
   }
  },
  "kernelspec": {
   "display_name": "Python 3",
   "language": "python",
   "name": "python3"
  }
 },
 "nbformat": 4,
 "nbformat_minor": 4
}
